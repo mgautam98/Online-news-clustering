{
 "cells": [
  {
   "cell_type": "code",
   "execution_count": 99,
   "metadata": {},
   "outputs": [],
   "source": [
    "CLIENT_ID = \"\"********\"\"\n",
    "CLIENT_SECRET = \"-\"********\"\""
   ]
  },
  {
   "cell_type": "code",
   "execution_count": 100,
   "metadata": {},
   "outputs": [],
   "source": [
    "USER_AGENT = \"python:data_miner (by /u/mgautam96)\""
   ]
  },
  {
   "cell_type": "code",
   "execution_count": 101,
   "metadata": {},
   "outputs": [],
   "source": [
    "USERNAME = \"********\"\n",
    "PASSWORD = \"********\""
   ]
  },
  {
   "cell_type": "code",
   "execution_count": 102,
   "metadata": {},
   "outputs": [],
   "source": [
    "import requests\n",
    "\n",
    "def login(username, password):\n",
    "    if password is None:\n",
    "        password = getpass.getpass(\"Enter reddit password for user {}: \".format(username))\n",
    "    headers = {\"User-Agent\": USER_AGENT}\n",
    "    client_auth = requests.auth.HTTPBasicAuth(CLIENT_ID, CLIENT_SECRET)\n",
    "    post_data = {\"grant_type\": \"password\", \"username\": username, \"password\": password}\n",
    "    response = requests.post(\"https://www.reddit.com/api/v1/access_token\", auth=client_auth, data=post_data, headers=headers)\n",
    "    return response.json()\n"
   ]
  },
  {
   "cell_type": "code",
   "execution_count": 103,
   "metadata": {},
   "outputs": [],
   "source": [
    "token = login(USERNAME, PASSWORD)"
   ]
  },
  {
   "cell_type": "code",
   "execution_count": 104,
   "metadata": {},
   "outputs": [],
   "source": [
    "subreddit = \"worldnews\""
   ]
  },
  {
   "cell_type": "code",
   "execution_count": 105,
   "metadata": {},
   "outputs": [],
   "source": [
    "url = \"https://oauth.reddit.com/r/{}\".format(subreddit)"
   ]
  },
  {
   "cell_type": "code",
   "execution_count": 106,
   "metadata": {},
   "outputs": [],
   "source": [
    "headers = {\"Authorization\": \"bearer {}\".format(token['access_token']),\n",
    "           \"User-Agent\": USER_AGENT}\n"
   ]
  },
  {
   "cell_type": "code",
   "execution_count": 107,
   "metadata": {},
   "outputs": [],
   "source": [
    "response = requests.get(url, headers=headers)"
   ]
  },
  {
   "cell_type": "code",
   "execution_count": 108,
   "metadata": {},
   "outputs": [],
   "source": [
    "result = response.json()"
   ]
  },
  {
   "cell_type": "code",
   "execution_count": 109,
   "metadata": {},
   "outputs": [
    {
     "name": "stdout",
     "output_type": "stream",
     "text": [
      "Skeptics Blast Trump's New Claim That Soleimani Targeted 4 US Embassies: \"Either Fox News gets higher level briefings than Congress ... or there was no such imminent threat,\" charged Sen. Chris Murphy.\n",
      "The US reportedly sent secret messages to Iran via Swiss intermediaries, urging not to retaliate too strongly and further provoke Trump\n",
      "Ontario Provincial government sends mass alert for ‘incident’ at nuclear facility\n",
      "Trump Brags About Serving Up American Troops to Saudi Arabia for Nothing More Than Cash: Justin Amash responded to Trump's remarks, saying, “He sells troops”\n",
      "Prague mayor hits out at ‘unreliable’ China as city ditches Beijing for Taipei in sister city agreement\n",
      "Choppers are used to drop thousands of kilograms of food for animals starving to death bushfires | Daily Mail Online\n",
      "China will not change its position that Taiwan belongs to it and the world will only ever recognize that there is “one China”, Beijing said on Sunday after President Tsai Ing-wen won re-election and said she would not submit to China’s threats.\n",
      "Trump and Pompeo offer conflicting statements on Iranian threat that led to Soleimani killing\n",
      "An Israeli tech company accused of helping Saudi Arabia spy on murdered journalist Jamal Khashoggi has hired its first US lobbying firm in an attempt to fend off allegations that it illegally spied on hundreds of people through WhatsApp.\n",
      "Around 10,000 Thais joined a so-called “Run Against Dictatorship” on Sunday, shouting slogans and wielding three-finger salutes from the Hunger Games films in what was believed to be the largest show of political defiance since the 2014 coup.\n",
      "British ambassador Robert Macaire arrested in Iran for taking pictures of the students protesting against the Islamic regime\n",
      "Trump tells Iranian protesters he stands with them and warns Tehran: 'The world is watching'\n",
      "Protesters in Iran are demanding that Supreme Leader Ayatollah Ali Khamenei steps down, after the country's military admitted to accidentally downing a Ukrainian passenger jet, killing all 176 people on board\n",
      "Trump says US ‘stands with brave, long-suffering Iranians’ days after threatening to bomb their cultural sites | President criticised for gross hypocrisy after claiming to be friend of Iranian people on same day as reimposition of harsh sanctions announced\n",
      "Iranian students seen refusing to trample US, Israeli flags\n",
      "A NewsCorp employee attacked the “misinformation campaign” of Rupert Murdoch’s empire over Australia’s fires\n",
      "Iranian Olympic medalist confirms she defected from 'oppressive' regime\n",
      "Hundreds of Polish judges dressed in formal black robes marched in Warsaw on Saturday to protest a draft law aimed at punishing justices who question the government's controversial court reforms. Senior judges from nearly all European Union member states joined the protest\n",
      "‘They killed our sons and daughters’: anger rises in Iran over Flight 752 | World news\n",
      "Uyghurs in Xinjiang Ordered to Replace Traditional Décor With Sinicized Furniture\n",
      "Thousands evacuate as Taal Volcano in the Philippines continues to show signs of eruption\n",
      "Greta Thunberg and 20 Youth Climate Activists Call on Davos Attendees to 'Abandon the Fossil Fuel Economy' - \"Today's business as usual is turning into a crime against humanity.\"\n",
      "Taal Volcano currently experiencing a phreatic eruption. Surrounding area is now being evacuated.\n",
      "Four rockets hit Iraq base hosting US troops: Military sources\n",
      "Taiwan election – Tsai Ing-wen wins second presidential term, beating Beijing-friendly rival\n"
     ]
    }
   ],
   "source": [
    "for story in result['data']['children']:\n",
    "    print(story['data']['title'])"
   ]
  },
  {
   "cell_type": "code",
   "execution_count": 110,
   "metadata": {},
   "outputs": [],
   "source": [
    "from time import sleep\n"
   ]
  },
  {
   "cell_type": "code",
   "execution_count": 111,
   "metadata": {},
   "outputs": [],
   "source": [
    "def get_links(subreddit, token, n_pages=5):\n",
    "    stories = []\n",
    "    after = None\n",
    "    for page_number in range(n_pages):\n",
    "        headers = {\"Authorization\": \"bearer {}\".format(token['access_token']),\n",
    "            \"User-Agent\": USER_AGENT}\n",
    "        url = \"https://oauth.reddit.com/r/{}?limit=100\".format(subreddit)\n",
    "        if after:\n",
    "            url += \"&after={}\".format(after)\n",
    "        response = requests.get(url, headers=headers)\n",
    "        result = response.json()\n",
    "        after = result['data']['after']\n",
    "        sleep(2)\n",
    "        stories.extend([(story['data']['title'], story['data']['url'], story['data']['score'])\n",
    "                       for story in result['data']['children']])\n",
    "        return stories"
   ]
  },
  {
   "cell_type": "code",
   "execution_count": 112,
   "metadata": {},
   "outputs": [],
   "source": [
    "stories = get_links(\"worldnews\", token)"
   ]
  },
  {
   "cell_type": "code",
   "execution_count": 113,
   "metadata": {},
   "outputs": [],
   "source": [
    "import os\n",
    "data_folder = os.path.join(os.path.expanduser(\"~/workspace\"), \"Data\", \"websites\", \"raw\")"
   ]
  },
  {
   "cell_type": "code",
   "execution_count": 114,
   "metadata": {},
   "outputs": [],
   "source": [
    "import hashlib"
   ]
  },
  {
   "cell_type": "code",
   "execution_count": 115,
   "metadata": {},
   "outputs": [],
   "source": [
    "number_errors = 0"
   ]
  },
  {
   "cell_type": "code",
   "execution_count": 118,
   "metadata": {},
   "outputs": [],
   "source": [
    "from interruptingcow import timeout"
   ]
  },
  {
   "cell_type": "code",
   "execution_count": 120,
   "metadata": {},
   "outputs": [
    {
     "name": "stdout",
     "output_type": "stream",
     "text": [
      "\n"
     ]
    }
   ],
   "source": [
    "for title, url, score in stories:\n",
    "    output_filename = hashlib.md5(url.encode()).hexdigest()\n",
    "    fullpath = os.path.join(data_folder, output_filename + \".txt\")\n",
    "    try:\n",
    "        with timeout(5, exception=RuntimeError):\n",
    "            response = requests.get(url)\n",
    "            sleep(2)\n",
    "            data = response.text\n",
    "            with open(fullpath, 'w') as outf:\n",
    "                outf.write(data)\n",
    "    except (Exception, RuntimeError) as e:\n",
    "        number_errors += 1\n",
    "        print(e)"
   ]
  },
  {
   "cell_type": "code",
   "execution_count": 121,
   "metadata": {},
   "outputs": [],
   "source": [
    "filenames = [os.path.join(data_folder, filename)\n",
    "             for filename in os.listdir(data_folder)]"
   ]
  },
  {
   "cell_type": "code",
   "execution_count": 122,
   "metadata": {},
   "outputs": [],
   "source": [
    "text_output_folder = os.path.join(os.path.expanduser(\"~/workspace\"), \"Data\",\n",
    "                                  \"websites\", \"textonly\")"
   ]
  },
  {
   "cell_type": "code",
   "execution_count": 123,
   "metadata": {
    "scrolled": true
   },
   "outputs": [],
   "source": [
    "from lxml import etree\n",
    "from lxml.html import parse"
   ]
  },
  {
   "cell_type": "code",
   "execution_count": 124,
   "metadata": {},
   "outputs": [],
   "source": [
    "skip_node_types = [\"script\", \"head\", \"style\", etree.Comment]"
   ]
  },
  {
   "cell_type": "code",
   "execution_count": 125,
   "metadata": {},
   "outputs": [],
   "source": [
    "def get_text_from_file(filename):\n",
    "    with open(filename) as inf:\n",
    "        html_tree = parse(inf)\n",
    "    return get_text_from_node(html_tree.getroot())"
   ]
  },
  {
   "cell_type": "code",
   "execution_count": 126,
   "metadata": {},
   "outputs": [],
   "source": [
    "def get_text_from_node(node):\n",
    "    if len(node) == 0:\n",
    "        if node.text and len(node.text) > 100:\n",
    "            return node.text\n",
    "        else:\n",
    "            return \"\"\n",
    "    results = (get_text_from_node(child) for child in node\n",
    "                     if child.tag not in skip_node_types)\n",
    "    return \"\\n\".join(r for r in results if len(r) > 1)"
   ]
  },
  {
   "cell_type": "code",
   "execution_count": 127,
   "metadata": {},
   "outputs": [],
   "source": [
    "for filename in os.listdir(data_folder):\n",
    "    text = get_text_from_file(os.path.join(data_folder, filename))\n",
    "    with open(os.path.join(text_output_folder, filename), 'w') as outf:\n",
    "        outf.write(text)"
   ]
  },
  {
   "cell_type": "code",
   "execution_count": 128,
   "metadata": {},
   "outputs": [],
   "source": [
    "from sklearn.cluster import KMeans"
   ]
  },
  {
   "cell_type": "code",
   "execution_count": 129,
   "metadata": {},
   "outputs": [],
   "source": [
    "from sklearn.feature_extraction.text import TfidfVectorizer"
   ]
  },
  {
   "cell_type": "code",
   "execution_count": 162,
   "metadata": {},
   "outputs": [],
   "source": [
    "from sklearn.pipeline import Pipeline\n",
    "n_clusters = 10\n",
    "pipeline = Pipeline([('feature_extraction', TfidfVectorizer(max_df=0.4)),\n",
    "                     ('clusterer', KMeans(n_clusters=n_clusters))\n",
    "                     ])"
   ]
  },
  {
   "cell_type": "code",
   "execution_count": 131,
   "metadata": {},
   "outputs": [],
   "source": [
    "documents = [open(os.path.join(data_folder, filename)).read() for filename in os.listdir(data_folder)]"
   ]
  },
  {
   "cell_type": "code",
   "execution_count": 132,
   "metadata": {},
   "outputs": [],
   "source": [
    "pipeline.fit(documents)\n",
    "labels = pipeline.predict(documents)"
   ]
  },
  {
   "cell_type": "code",
   "execution_count": 133,
   "metadata": {},
   "outputs": [
    {
     "name": "stdout",
     "output_type": "stream",
     "text": [
      "Cluster 0 contains 7 samples\n",
      "Cluster 1 contains 25 samples\n",
      "Cluster 2 contains 6 samples\n",
      "Cluster 3 contains 9 samples\n",
      "Cluster 4 contains 14 samples\n",
      "Cluster 5 contains 5 samples\n",
      "Cluster 6 contains 8 samples\n",
      "Cluster 7 contains 5 samples\n",
      "Cluster 8 contains 8 samples\n",
      "Cluster 9 contains 11 samples\n"
     ]
    }
   ],
   "source": [
    "from collections import Counter\n",
    "c = Counter(labels)\n",
    "for cluster_number in range(n_clusters):\n",
    "    print(\"Cluster {} contains {} samples\".format(cluster_number, c[cluster_number]))"
   ]
  },
  {
   "cell_type": "code",
   "execution_count": 134,
   "metadata": {},
   "outputs": [
    {
     "data": {
      "text/plain": [
       "65.60822081909664"
      ]
     },
     "execution_count": 134,
     "metadata": {},
     "output_type": "execute_result"
    }
   ],
   "source": [
    "pipeline.named_steps['clusterer'].inertia_"
   ]
  },
  {
   "cell_type": "code",
   "execution_count": 135,
   "metadata": {},
   "outputs": [
    {
     "name": "stdout",
     "output_type": "stream",
     "text": [
      "90.6645741923784\n",
      "87.08095238137\n",
      "83.94059363364067\n",
      "79.46146247803802\n",
      "76.9464730972924\n",
      "72.70772762633524\n",
      "69.71910858237742\n",
      "67.89873508123442\n",
      "64.96467970033173\n",
      "64.6039302829198\n",
      "62.084176780317655\n",
      "60.2517595687025\n",
      "57.68087734356895\n"
     ]
    }
   ],
   "source": [
    "inertia_scores = []\n",
    "n_cluster_values = range(2, 15)\n",
    "for n_clusters in n_cluster_values:\n",
    "    cur_inertia_scores = []\n",
    "    X = TfidfVectorizer(max_df=0.4).fit_transform(documents)\n",
    "    km = KMeans(n_clusters=n_clusters).fit(X)\n",
    "    print(km.inertia_)\n",
    "    cur_inertia_scores.append(km.inertia_)\n",
    "    inertia_scores.append(cur_inertia_scores)"
   ]
  },
  {
   "cell_type": "code",
   "execution_count": 136,
   "metadata": {},
   "outputs": [
    {
     "data": {
      "image/png": "[encoded data removed]",
      "text/plain": [
       "<Figure size 1080x576 with 1 Axes>"
      ]
     },
     "metadata": {
      "needs_background": "light"
     },
     "output_type": "display_data"
    }
   ],
   "source": [
    "%matplotlib inline\n",
    "from matplotlib import pyplot as plt\n",
    "\n",
    "fig = plt.figure(figsize=(15, 8))\n",
    "plt.plot(n_cluster_values, inertia_scores, color='green')\n",
    "plt.xlabel('Number of Clusters')\n",
    "plt.ylabel('Inertia Score')\n",
    "plt.show()"
   ]
  },
  {
   "cell_type": "code",
   "execution_count": 196,
   "metadata": {},
   "outputs": [],
   "source": [
    "n_clusters = 10\n",
    "pipeline = Pipeline([('feature_extraction', TfidfVectorizer(max_df=0.4)),\n",
    "                     ('clusterer', KMeans(n_clusters=n_clusters))\n",
    "                     ])\n",
    "pipeline.fit(documents)\n",
    "labels = pipeline.predict(documents)"
   ]
  },
  {
   "cell_type": "code",
   "execution_count": 197,
   "metadata": {},
   "outputs": [],
   "source": [
    "terms = pipeline.named_steps['feature_extraction'].get_feature_names()"
   ]
  },
  {
   "cell_type": "code",
   "execution_count": 198,
   "metadata": {},
   "outputs": [],
   "source": [
    "c = Counter(labels)"
   ]
  },
  {
   "cell_type": "code",
   "execution_count": 199,
   "metadata": {},
   "outputs": [
    {
     "name": "stdout",
     "output_type": "stream",
     "text": [
      "Cluster 0 contains 3 samples\n",
      "Cluster 1 contains 5 samples\n",
      "Cluster 2 contains 5 samples\n",
      "Cluster 3 contains 7 samples\n",
      "Cluster 4 contains 6 samples\n",
      "Cluster 5 contains 13 samples\n",
      "Cluster 6 contains 25 samples\n",
      "Cluster 7 contains 7 samples\n",
      "Cluster 8 contains 10 samples\n",
      "Cluster 9 contains 17 samples\n"
     ]
    }
   ],
   "source": [
    "for cluster_number in range(n_clusters):\n",
    "    print(\"Cluster {} contains {} samples\".format(cluster_number, c[cluster_number]))"
   ]
  },
  {
   "cell_type": "code",
   "execution_count": 200,
   "metadata": {},
   "outputs": [
    {
     "name": "stdout",
     "output_type": "stream",
     "text": [
      "  Most important terms\n"
     ]
    }
   ],
   "source": [
    "print(\"  Most important terms\")\n",
    "centroid = pipeline.named_steps['clusterer'].cluster_centers_[cluster_number]\n",
    "most_important = centroid.argsort()"
   ]
  },
  {
   "cell_type": "code",
   "execution_count": 201,
   "metadata": {},
   "outputs": [
    {
     "name": "stdout",
     "output_type": "stream",
     "text": [
      "  1) field (score: 0.1512)\n",
      "  2) views (score: 0.1130)\n",
      "  3) td (score: 0.0874)\n",
      "  4) commondreams (score: 0.0620)\n",
      "  5) option (score: 0.0452)\n",
      "  6) files (score: 0.0449)\n",
      "  7) pulse (score: 0.0403)\n",
      "  8) fa (score: 0.0392)\n",
      "  9) wp (score: 0.0384)\n",
      "  10) dailymail (score: 0.0383)\n"
     ]
    }
   ],
   "source": [
    "for i in range(10):\n",
    "    term_index = most_important[-(i+1)]\n",
    "    print(\"  {0}) {1} (score: {2:.4f})\".format(i+1, terms[term_index], centroid[term_index]))"
   ]
  },
  {
   "cell_type": "code",
   "execution_count": 202,
   "metadata": {},
   "outputs": [
    {
     "data": {
      "text/plain": [
       "(98, 10)"
      ]
     },
     "execution_count": 202,
     "metadata": {},
     "output_type": "execute_result"
    }
   ],
   "source": [
    "X = pipeline.transform(documents)\n",
    "X.shape"
   ]
  },
  {
   "cell_type": "code",
   "execution_count": 203,
   "metadata": {},
   "outputs": [],
   "source": [
    "from scipy.sparse import csr_matrix"
   ]
  },
  {
   "cell_type": "code",
   "execution_count": 204,
   "metadata": {},
   "outputs": [],
   "source": [
    "import numpy as np"
   ]
  },
  {
   "cell_type": "code",
   "execution_count": 205,
   "metadata": {},
   "outputs": [],
   "source": [
    "def create_coassociation_matrix(labels):\n",
    "    rows = []\n",
    "    cols = []\n",
    "    unique_labels = set(labels)\n",
    "    for label in unique_labels:\n",
    "        indices = np.where(labels == label)[0]\n",
    "        for index1 in indices:\n",
    "            for index2 in indices:\n",
    "                rows.append(index1)\n",
    "                cols.append(index2)\n",
    "    data = np.ones((len(rows),))\n",
    "    return csr_matrix((data, (rows, cols)), dtype='float')"
   ]
  },
  {
   "cell_type": "code",
   "execution_count": 206,
   "metadata": {},
   "outputs": [],
   "source": [
    "C = create_coassociation_matrix(labels)"
   ]
  },
  {
   "cell_type": "code",
   "execution_count": 207,
   "metadata": {},
   "outputs": [
    {
     "data": {
      "text/plain": [
       "0.14327363598500625"
      ]
     },
     "execution_count": 207,
     "metadata": {},
     "output_type": "execute_result"
    }
   ],
   "source": [
    "len(C.nonzero()[0]) / (C.shape[0] * C.shape[1])"
   ]
  },
  {
   "cell_type": "code",
   "execution_count": 208,
   "metadata": {},
   "outputs": [],
   "source": [
    "from scipy.sparse.csgraph import minimum_spanning_tree"
   ]
  },
  {
   "cell_type": "code",
   "execution_count": 209,
   "metadata": {},
   "outputs": [],
   "source": [
    "mst = minimum_spanning_tree(C)"
   ]
  },
  {
   "cell_type": "code",
   "execution_count": 210,
   "metadata": {},
   "outputs": [],
   "source": [
    "mst = minimum_spanning_tree(-C)"
   ]
  },
  {
   "cell_type": "code",
   "execution_count": 211,
   "metadata": {},
   "outputs": [],
   "source": [
    "pipeline = Pipeline([('feature_extraction', TfidfVectorizer(max_df=0.4)),\n",
    "                     ('clusterer', KMeans(n_clusters=3))\n",
    "                     ])\n",
    "pipeline.fit(documents)\n",
    "labels2 = pipeline.predict(documents)\n",
    "C2 = create_coassociation_matrix(labels2)\n",
    "C_sum = (C + C2) / 2"
   ]
  },
  {
   "cell_type": "code",
   "execution_count": 212,
   "metadata": {},
   "outputs": [],
   "source": [
    "mst = minimum_spanning_tree(-C_sum)\n",
    "mst.data[mst.data > -1] = 0"
   ]
  },
  {
   "cell_type": "code",
   "execution_count": 213,
   "metadata": {},
   "outputs": [],
   "source": [
    "from scipy.sparse.csgraph import connected_components\n",
    "number_of_clusters, labels = connected_components(mst)"
   ]
  },
  {
   "cell_type": "code",
   "execution_count": 218,
   "metadata": {},
   "outputs": [],
   "source": [
    "from sklearn.base import BaseEstimator, ClusterMixin\n",
    "class EAC(BaseEstimator, ClusterMixin):\n",
    "    def __init__(self, n_clusterings=10, cut_threshold=0.5, n_clusters_range=(3, 10)):\n",
    "        self.n_clusterings = n_clusterings\n",
    "        self.cut_threshold = cut_threshold\n",
    "        self.n_clusters_range = n_clusters_range\n",
    "        \n",
    "    def fit(self, X, y=None):\n",
    "        C = sum((create_coassociation_matrix(self._single_clustering(X)) for i in range(self.n_clusterings)))\n",
    "        mst = minimum_spanning_tree(-C)\n",
    "        mst.data[mst.data > -self.cut_threshold] = 0\n",
    "        self.n_components, self.labels_ = connected_components(mst)\n",
    "        return self\n",
    "    \n",
    "    def _single_clustering(self, X):\n",
    "        n_clusters = np.random.randint(*self.n_clusters_range)\n",
    "        km = KMeans(n_clusters=n_clusters)\n",
    "        return km.fit_predict(X)\n",
    "    \n",
    "    def fit_predict(self, X):\n",
    "        self.fit(X)\n",
    "        return self.labels_"
   ]
  },
  {
   "cell_type": "code",
   "execution_count": 219,
   "metadata": {},
   "outputs": [
    {
     "data": {
      "text/plain": [
       "Counter({0: 98})"
      ]
     },
     "execution_count": 219,
     "metadata": {},
     "output_type": "execute_result"
    }
   ],
   "source": [
    "pipeline = Pipeline([('feature_extraction', TfidfVectorizer(max_df=0.4)),\n",
    "                     ('clusterer', EAC())\n",
    "                     ])\n",
    "pipeline.fit(documents)\n",
    "labels = pipeline.named_steps['clusterer'].labels_\n",
    "c = Counter(labels)\n",
    "c"
   ]
  },
  {
   "cell_type": "code",
   "execution_count": 221,
   "metadata": {},
   "outputs": [],
   "source": [
    "from sklearn.feature_extraction.text import HashingVectorizer\n",
    "vec = TfidfVectorizer(max_df=0.4)\n",
    "X = vec.fit_transform(documents)"
   ]
  },
  {
   "cell_type": "code",
   "execution_count": 222,
   "metadata": {},
   "outputs": [],
   "source": [
    "from sklearn.cluster import MiniBatchKMeans\n",
    "mbkm = MiniBatchKMeans(random_state=14, n_clusters=3)"
   ]
  },
  {
   "cell_type": "code",
   "execution_count": 223,
   "metadata": {},
   "outputs": [],
   "source": [
    "batch_size = 10\n",
    "for iteration in range(int(X.shape[0] / batch_size)):\n",
    "    start = batch_size * iteration\n",
    "    end = batch_size * (iteration + 1)\n",
    "    mbkm.partial_fit(X[start:end])"
   ]
  },
  {
   "cell_type": "code",
   "execution_count": 224,
   "metadata": {},
   "outputs": [],
   "source": [
    "labels  = mbkm.predict(X)"
   ]
  },
  {
   "cell_type": "code",
   "execution_count": 226,
   "metadata": {},
   "outputs": [],
   "source": [
    "class PartialFitPipeline(Pipeline):\n",
    "    def partial_fit(self, X, y=None):\n",
    "        Xt = X\n",
    "        for name, transform in self.steps[:-1]:\n",
    "            Xt = transform.transform(Xt)\n",
    "        return self.steps[-1][1].partial_fit(Xt, y=y)"
   ]
  },
  {
   "cell_type": "code",
   "execution_count": 227,
   "metadata": {},
   "outputs": [],
   "source": [
    "pipeline = PartialFitPipeline([('feature_extraction', HashingVectorizer()),\n",
    "                             ('clusterer', MiniBatchKMeans(random_state=14, n_clusters=3))\n",
    "                             ])\n",
    "batch_size = 10\n",
    "for iteration in range(int(len(documents) / batch_size)):\n",
    "    start = batch_size * iteration\n",
    "    end = batch_size * (iteration + 1)\n",
    "    pipeline.partial_fit(documents[start:end])\n",
    "labels = pipeline.predict(documents)"
   ]
  },
  {
   "cell_type": "code",
   "execution_count": 228,
   "metadata": {},
   "outputs": [
    {
     "data": {
      "text/plain": [
       "array([1, 1, 2, 2, 1, 1, 1, 1, 0, 1, 1, 1, 1, 1, 1, 1, 1, 1, 1, 1, 1, 1,\n",
       "       1, 1, 1, 1, 1, 2, 1, 1, 1, 1, 1, 1, 1, 1, 1, 1, 1, 1, 1, 1, 1, 1,\n",
       "       1, 1, 1, 1, 1, 1, 1, 1, 1, 1, 1, 1, 1, 1, 1, 1, 1, 1, 1, 1, 1, 1,\n",
       "       1, 1, 1, 1, 1, 1, 1, 1, 1, 1, 1, 1, 1, 1, 1, 1, 1, 1, 1, 1, 1, 1,\n",
       "       1, 2, 1, 1, 1, 1, 1, 1, 1, 1], dtype=int32)"
      ]
     },
     "execution_count": 228,
     "metadata": {},
     "output_type": "execute_result"
    }
   ],
   "source": [
    "labels"
   ]
  },
  {
   "cell_type": "code",
   "execution_count": null,
   "metadata": {},
   "outputs": [],
   "source": []
  }
 ],
 "metadata": {
  "kernelspec": {
   "display_name": "Python 3",
   "language": "python",
   "name": "python3"
  },
  "language_info": {
   "codemirror_mode": {
    "name": "ipython",
    "version": 3
   },
   "file_extension": ".py",
   "mimetype": "text/x-python",
   "name": "python",
   "nbconvert_exporter": "python",
   "pygments_lexer": "ipython3",
   "version": "3.7.4"
  }
 },
 "nbformat": 4,
 "nbformat_minor": 2
}
